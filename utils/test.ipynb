{
 "cells": [
  {
   "cell_type": "code",
   "execution_count": 1,
   "metadata": {},
   "outputs": [],
   "source": [
    "import re"
   ]
  },
  {
   "cell_type": "code",
   "execution_count": 5,
   "metadata": {},
   "outputs": [
    {
     "name": "stdout",
     "output_type": "stream",
     "text": [
      "['如', '果', '想', '听', '到', '更', '多', '懂', '于', '阿', '姨', '的', '故', '事', '请', '下', '载', '宝', '宝', '加', '油', 'app', '或', '者', '关', '注', '宝', '宝', '加', '油', '的', '微', '信', '公', '众', '号']\n"
     ]
    }
   ],
   "source": [
    "\n",
    "content = '如果想听到更多懂于阿姨的故事请下载宝宝加油 app, 或者关注宝宝加油的微信公众号'\n",
    "content = re.sub(r'#\\d+','',content)\n",
    "contents = re.findall(r'[a-zA-Z\\']+|[\\u4e00-\\u9fff]',content)\n",
    "print(contents)"
   ]
  },
  {
   "cell_type": "code",
   "execution_count": 30,
   "metadata": {},
   "outputs": [
    {
     "name": "stdout",
     "output_type": "stream",
     "text": [
      "['cn_ru2', 'cn_guo3', 'cn_xiang3', 'cn_ting1', 'cn_dao4', 'cn_geng4', 'cn_duo1', 'cn_dong3', 'cn_v2', 'cn_a1', 'cn_i2', 'cn_de5', 'cn_gu4', 'cn_shiii5', 'cn_qing3', 'cn_xia4', 'cn_zai3', 'cn_bao3', 'cn_bao5', 'cn_jia1', 'cn_iou2', \"en_app's\", 'cn_huo4', 'cn_zhe3', 'cn_guan1', 'cn_zhu4', 'cn_bao3', 'cn_bao5', 'cn_jia1', 'cn_iou2', 'cn_de5', 'cn_uei1', 'cn_xin4', 'cn_gong1', 'cn_zhong4', 'cn_hao4']\n"
     ]
    }
   ],
   "source": [
    "pys = 'cn_ru2 cn_guo3 cn_xiang3 cn_ting1 cn_dao4 cn_geng4 cn_duo1 cn_dong3 cn_v2 cn_a1 cn_i2 cn_de5 cn_gu4 cn_shiii5 cn_qing3 cn_xia4 cn_zai3 cn_bao3 cn_bao5 cn_jia1 cn_iou2 en_app\\'s cn_huo4、 cn_zhe3, cn_guan1 cn_zhu4 cn_bao3 cn_bao5 cn_jia1 cn_iou2 cn_de5 cn_uei1 cn_xin4 cn_gong1 cn_zhong4 cn_hao4'\n",
    "pys = re.sub(r'[^a-z1-5_ \\']', '', pys)\n",
    "pys = pys.split()\n",
    "print(pys)"
   ]
  },
  {
   "cell_type": "code",
   "execution_count": 8,
   "metadata": {},
   "outputs": [],
   "source": [
    "from textgrid import TextGrid\n",
    "ori_tg_path = r'/mnt/cfs/SPEECH/hupeng/align_dir/data_info/wenetspeech4tts/tg_res/wavs/X0000002152_6038436_S00113-S00114.TextGrid'\n",
    "ori_tg = TextGrid.fromFile(ori_tg_path)"
   ]
  },
  {
   "cell_type": "code",
   "execution_count": 22,
   "metadata": {},
   "outputs": [],
   "source": [
    "infos = [[],[],[]]\n",
    "tones = []\n",
    "count = 0\n",
    "for interval in ori_tg.tiers[0]:\n",
    "    min_t, max_t, text = interval.minTime, interval.maxTime, interval.mark\n",
    "    #去掉音节里面的伪声母 ‘y’\n",
    "    #text = re.sub(r'cn_y', 'cn_', text)\n",
    "    #添加声调 \n",
    "    \n",
    "    if text != '' and re.sub(r'\\d+', '', pys[count]) == text:\n",
    "        py = pys[count].replace('6','2')\n",
    "        infos[0].append((py ,min_t, max_t))\n",
    "        infos[2].append((contents[count],min_t,max_t))\n",
    "        if 'cn_' in py:\n",
    "            tone = py[-1]\n",
    "            if tone not in ['1','2','3','4','5']:\n",
    "                no_write = True\n",
    "            tones.append(tone)\n",
    "        count += 1\n",
    "    else:\n",
    "        infos[0].append((text,min_t,max_t))\n",
    "        infos[2].append((text,min_t,max_t))\n",
    "i, count = 0, 0"
   ]
  },
  {
   "cell_type": "code",
   "execution_count": 12,
   "metadata": {},
   "outputs": [
    {
     "name": "stdout",
     "output_type": "stream",
     "text": [
      "1\n"
     ]
    }
   ],
   "source": [
    "file = 'part_text_a_syllable'\n",
    "if 'syllable_from_json' in file or ('_syllable' in file and 'part_text_' in file):\n",
    "    print(1)"
   ]
  },
  {
   "cell_type": "code",
   "execution_count": null,
   "metadata": {},
   "outputs": [],
   "source": []
  }
 ],
 "metadata": {
  "kernelspec": {
   "display_name": "Python 3",
   "language": "python",
   "name": "python3"
  },
  "language_info": {
   "codemirror_mode": {
    "name": "ipython",
    "version": 3
   },
   "file_extension": ".py",
   "mimetype": "text/x-python",
   "name": "python",
   "nbconvert_exporter": "python",
   "pygments_lexer": "ipython3",
   "version": "3.11.5"
  }
 },
 "nbformat": 4,
 "nbformat_minor": 2
}
